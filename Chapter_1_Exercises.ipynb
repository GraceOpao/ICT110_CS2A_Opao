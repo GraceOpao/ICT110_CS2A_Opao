{
  "nbformat": 4,
  "nbformat_minor": 0,
  "metadata": {
    "colab": {
      "provenance": []
    },
    "kernelspec": {
      "name": "python3",
      "display_name": "Python 3"
    },
    "language_info": {
      "name": "python"
    }
  },
  "cells": [
    {
      "cell_type": "markdown",
      "source": [
        "Chapter 1 Exercises\n"
      ],
      "metadata": {
        "id": "fic_Cdb7HRdz"
      }
    },
    {
      "cell_type": "markdown",
      "source": [
        "EXERCISE 1\n"
      ],
      "metadata": {
        "id": "OwZPuszaK6NN"
      }
    },
    {
      "cell_type": "code",
      "source": [
        "print('Hello world!')\n",
        "#the letter \"p\" is in capital letter"
      ],
      "metadata": {
        "id": "rVsrgnlOK-vu",
        "colab": {
          "base_uri": "https://localhost:8080/"
        },
        "outputId": "7dbf5bc2-5aaf-417d-dfd2-5a994176f72e"
      },
      "execution_count": 2,
      "outputs": [
        {
          "output_type": "stream",
          "name": "stdout",
          "text": [
            "Hello world!\n"
          ]
        }
      ]
    },
    {
      "cell_type": "code",
      "source": [
        "print('Hello world!')\n",
        "#there is a missing apostrope"
      ],
      "metadata": {
        "id": "a-hwCXe6LCzm",
        "colab": {
          "base_uri": "https://localhost:8080/"
        },
        "outputId": "d633742b-1864-4e99-a3e9-915ac3e3acda"
      },
      "execution_count": 3,
      "outputs": [
        {
          "output_type": "stream",
          "name": "stdout",
          "text": [
            "Hello world!\n"
          ]
        }
      ]
    },
    {
      "cell_type": "code",
      "source": [
        "print('Hello world!')\n",
        "#missing open parenthesis"
      ],
      "metadata": {
        "id": "68TB-dyRLEf-",
        "colab": {
          "base_uri": "https://localhost:8080/"
        },
        "outputId": "52d325b2-3ae3-4033-941c-1e87884ea7db"
      },
      "execution_count": 4,
      "outputs": [
        {
          "output_type": "stream",
          "name": "stdout",
          "text": [
            "Hello world!\n"
          ]
        }
      ]
    },
    {
      "cell_type": "code",
      "source": [
        "print('Hello world!')\n",
        "#2 apostrophes"
      ],
      "metadata": {
        "colab": {
          "base_uri": "https://localhost:8080/"
        },
        "id": "1rj3FRNGLPE-",
        "outputId": "76f6b6ca-0a60-406e-c7f7-f0a499ab4668"
      },
      "execution_count": 5,
      "outputs": [
        {
          "output_type": "stream",
          "name": "stdout",
          "text": [
            "Hello world!\n"
          ]
        }
      ]
    },
    {
      "cell_type": "markdown",
      "source": [
        "EXERCISE 2"
      ],
      "metadata": {
        "id": "LTjaZOlFLxbs"
      }
    },
    {
      "cell_type": "code",
      "source": [
        "x = 43\n",
        "x = x + 1\n",
        "print(x)\n",
        "44"
      ],
      "metadata": {
        "id": "HhUYXAkxL3l-",
        "colab": {
          "base_uri": "https://localhost:8080/"
        },
        "outputId": "c86ec184-cbb4-4d7f-eaa1-dd78b9590236"
      },
      "execution_count": 6,
      "outputs": [
        {
          "output_type": "stream",
          "name": "stdout",
          "text": [
            "44\n"
          ]
        },
        {
          "output_type": "execute_result",
          "data": {
            "text/plain": [
              "44"
            ]
          },
          "metadata": {},
          "execution_count": 6
        }
      ]
    },
    {
      "cell_type": "markdown",
      "source": [
        "EXERCISE 3"
      ],
      "metadata": {
        "id": "K5dPs-VJL_Hc"
      }
    },
    {
      "cell_type": "code",
      "source": [
        "x = 43\n",
        "x = x + 1\n",
        "print(x)\n",
        "#change \"x\" into small letter"
      ],
      "metadata": {
        "id": "U2zHRbCWMB4t",
        "colab": {
          "base_uri": "https://localhost:8080/"
        },
        "outputId": "47ccbcb6-26b3-4a1d-b4e7-133399f420ed"
      },
      "execution_count": 7,
      "outputs": [
        {
          "output_type": "stream",
          "name": "stdout",
          "text": [
            "44\n"
          ]
        }
      ]
    }
  ]
}