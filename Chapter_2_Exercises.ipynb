{
  "nbformat": 4,
  "nbformat_minor": 0,
  "metadata": {
    "colab": {
      "provenance": []
    },
    "kernelspec": {
      "name": "python3",
      "display_name": "Python 3"
    },
    "language_info": {
      "name": "python"
    }
  },
  "cells": [
    {
      "cell_type": "markdown",
      "source": [
        "Chapter 2 Exercises"
      ],
      "metadata": {
        "id": "luuMOQLaMaTz"
      }
    },
    {
      "cell_type": "markdown",
      "source": [
        "Exercise 1"
      ],
      "metadata": {
        "id": "Wq5O-_9XsSPH"
      }
    },
    {
      "cell_type": "code",
      "source": [
        "name = input('Enter your name: ')\n",
        "print('Hello', name)"
      ],
      "metadata": {
        "id": "4hF1ArhbMjm7",
        "colab": {
          "base_uri": "https://localhost:8080/"
        },
        "outputId": "629a3a0d-ee69-48a9-8667-a66788e2346e"
      },
      "execution_count": 3,
      "outputs": [
        {
          "output_type": "stream",
          "name": "stdout",
          "text": [
            "Enter your name: Grace\n",
            "Hello Grace\n"
          ]
        }
      ]
    },
    {
      "cell_type": "markdown",
      "source": [
        "EXERCISE 2"
      ],
      "metadata": {
        "id": "he-J4LEyN71A"
      }
    },
    {
      "cell_type": "code",
      "source": [
        "float_hours = float(input('Enter Hours: '))\n",
        "float_rate = float(input('Enter rate:'))\n",
        "pay = (float_hours*float_rate)\n",
        "print(\"Pay:\", pay)"
      ],
      "metadata": {
        "colab": {
          "base_uri": "https://localhost:8080/"
        },
        "id": "GUYHYsorM5gM",
        "outputId": "20882b58-9adf-4ea7-e6d9-adf0d3f2c922"
      },
      "execution_count": 4,
      "outputs": [
        {
          "output_type": "stream",
          "name": "stdout",
          "text": [
            "Enter Hours: 10\n",
            "Enter rate:300\n",
            "Pay: 3000.0\n"
          ]
        }
      ]
    },
    {
      "cell_type": "markdown",
      "source": [
        "EXERCISE 3"
      ],
      "metadata": {
        "id": "__50d8cTODs4"
      }
    },
    {
      "cell_type": "code",
      "source": [
        "width = 17\n",
        "height = 12.0\n",
        "\n",
        "print (width//2, (type(width//2)))\n",
        "print (width/2.0, (type(width/2.0)))\n",
        "print (height/3, (type(height/3)))\n",
        "print (1 + 2 * 5, (type(1 + 2 * 5)))"
      ],
      "metadata": {
        "id": "iFDAHImlNPQB",
        "colab": {
          "base_uri": "https://localhost:8080/"
        },
        "outputId": "10b8427f-f607-4418-b22d-eb40a89fa4a9"
      },
      "execution_count": 5,
      "outputs": [
        {
          "output_type": "stream",
          "name": "stdout",
          "text": [
            "8 <class 'int'>\n",
            "8.5 <class 'float'>\n",
            "4.0 <class 'float'>\n",
            "11 <class 'int'>\n"
          ]
        }
      ]
    },
    {
      "cell_type": "code",
      "source": [
        "number = int (input('Enter a number:'))\n",
        "square = number*number\n",
        "print(\"The square of\", number, \"is\",square)"
      ],
      "metadata": {
        "id": "ce5sK8a_NQmN",
        "colab": {
          "base_uri": "https://localhost:8080/"
        },
        "outputId": "90269d60-1b10-4fbb-cfee-64efcbc05d85"
      },
      "execution_count": 6,
      "outputs": [
        {
          "output_type": "stream",
          "name": "stdout",
          "text": [
            "Enter a number:5\n",
            "The square of 5 is 25\n"
          ]
        }
      ]
    },
    {
      "cell_type": "markdown",
      "source": [
        "EXERCISE 4\n"
      ],
      "metadata": {
        "id": "rg-2O-ZOOWlf"
      }
    },
    {
      "cell_type": "code",
      "source": [
        "number = float (input(\"Enter number: \"))\n",
        "square = number * number\n",
        "print(f\"the square of {number} is {square}\")"
      ],
      "metadata": {
        "colab": {
          "base_uri": "https://localhost:8080/"
        },
        "id": "LFke0eCSOZlX",
        "outputId": "9d2b053b-393a-4ca4-b6ca-e844ce317bcd"
      },
      "execution_count": 7,
      "outputs": [
        {
          "output_type": "stream",
          "name": "stdout",
          "text": [
            "Enter number: 3\n",
            "the square of 3.0 is 9.0\n"
          ]
        }
      ]
    },
    {
      "cell_type": "markdown",
      "source": [
        "CHALLENGE"
      ],
      "metadata": {
        "id": "zDgknpGTPR8d"
      }
    },
    {
      "cell_type": "code",
      "source": [
        "celsius = int (input(\"Enter Celsius: \"))\n",
        "fahrenheit = (celsius * (9/5)) + 32\n",
        "print (celsius, \"celsius is\", fahrenheit, \"in fahrenheit\")"
      ],
      "metadata": {
        "id": "0U0SQXJ9PTUg",
        "colab": {
          "base_uri": "https://localhost:8080/"
        },
        "outputId": "904c8f57-a4e6-46c0-94a3-2adda1fde592"
      },
      "execution_count": 8,
      "outputs": [
        {
          "output_type": "stream",
          "name": "stdout",
          "text": [
            "Enter Celsius: 23\n",
            "23 celsius is 73.4 in fahrenheit\n"
          ]
        }
      ]
    }
  ]
}