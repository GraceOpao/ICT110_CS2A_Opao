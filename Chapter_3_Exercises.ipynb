{
  "nbformat": 4,
  "nbformat_minor": 0,
  "metadata": {
    "colab": {
      "provenance": []
    },
    "kernelspec": {
      "name": "python3",
      "display_name": "Python 3"
    },
    "language_info": {
      "name": "python"
    }
  },
  "cells": [
    {
      "cell_type": "markdown",
      "source": [
        "Chapter 3"
      ],
      "metadata": {
        "id": "VNdmJR8dPnB-"
      }
    },
    {
      "cell_type": "markdown",
      "source": [
        "EXERCISE 1\n"
      ],
      "metadata": {
        "id": "O3b9U0LrP53s"
      }
    },
    {
      "cell_type": "code",
      "source": [
        "x=int(input('Enter value of x: '))\n",
        "if x > 50 :\n",
        "    print('Above 50')\n",
        "elif x >  20 :\n",
        "    print('Above 20')\n",
        "elif x >  10 :\n",
        "    print('Above 10')\n",
        "elif x > 0 :\n",
        "    print('Above 0')\n",
        "else :\n",
        "    print('Something else')"
      ],
      "metadata": {
        "colab": {
          "base_uri": "https://localhost:8080/"
        },
        "id": "fDvNoeMPP9qM",
        "outputId": "8ff10cdc-1fea-4911-8ad8-f04f9fe66a19"
      },
      "execution_count": 3,
      "outputs": [
        {
          "output_type": "stream",
          "name": "stdout",
          "text": [
            "Enter value of x: 59\n",
            "Above 50\n"
          ]
        }
      ]
    },
    {
      "cell_type": "markdown",
      "metadata": {
        "id": "e2xkW1_Ze3rI"
      },
      "source": [
        "#### Exercise 2"
      ]
    },
    {
      "cell_type": "code",
      "source": [
        "hours = int (input(\"Enter Hours: \"))\n",
        "rate = int (input(\"Enter Rate: \"))\n",
        "if hours > 40 :\n",
        "  rate = 10*1.5\n",
        "\n",
        "pay = hours*rate\n",
        "print (\"Pay: \", pay)\n"
      ],
      "metadata": {
        "colab": {
          "base_uri": "https://localhost:8080/"
        },
        "id": "pDVN86DXgzUl",
        "outputId": "ee515a1f-beeb-4f25-8b2d-8d57437e57f1"
      },
      "execution_count": 5,
      "outputs": [
        {
          "output_type": "stream",
          "name": "stdout",
          "text": [
            "Enter Hours: 45\n",
            "Enter Rate: 10\n",
            "Pay:  675.0\n"
          ]
        }
      ]
    },
    {
      "cell_type": "markdown",
      "metadata": {
        "id": "SN_HES89e3rI"
      },
      "source": [
        "## CHALLENGE"
      ]
    },
    {
      "cell_type": "code",
      "source": [
        "score = int (input(\"Enter Score: \"))\n",
        "try:\n",
        "  if score >= 97 and score <= 100:\n",
        "    grade = 1.0\n",
        "  elif score >= 93 and score < 97:\n",
        "    grade = 1.25\n",
        "  elif score >= 89 and score < 93:\n",
        "    grade = 1.5\n",
        "  elif score >= 85 and score < 89:\n",
        "    grade = 1.75\n",
        "  elif score >= 81 and score < 85:\n",
        "    grade = 2.0\n",
        "  elif score >= 77 and score < 81:\n",
        "    grade = 2.25\n",
        "  elif score >= 74 and score < 77:\n",
        "    grade = 2.5\n",
        "  elif score >= 0 and score < 74:\n",
        "    grade = 3.0\n",
        "  print (\"Grade: \", grade)\n",
        "except:\n",
        "  print (\"Enter scores only ranging from 0-100\")\n",
        "\n",
        "\n"
      ],
      "metadata": {
        "colab": {
          "base_uri": "https://localhost:8080/"
        },
        "id": "38EnlsRajdwF",
        "outputId": "d30e7444-ca40-44eb-8152-25becadf14e3"
      },
      "execution_count": 6,
      "outputs": [
        {
          "output_type": "stream",
          "name": "stdout",
          "text": [
            "Enter Score: 90\n",
            "Grade:  1.5\n"
          ]
        }
      ]
    },
    {
      "cell_type": "markdown",
      "metadata": {
        "id": "cYnKaWOre3rI"
      },
      "source": [
        "# CHAPTER 4 - Functions"
      ]
    },
    {
      "cell_type": "code",
      "source": [
        "def compute_pay(hours, rate):\n",
        "    overtime_rate = rate * 1.5\n",
        "    if hours <= 40:\n",
        "        return hours * rate\n",
        "    else:\n",
        "        return 40 * rate + (hours - 40) * overtime_rate\n",
        "\n",
        "hours = float(input(\"Enter Hours: \"))\n",
        "rate = float(input(\"Enter Rate: \"))\n",
        "pay = compute_pay(hours, rate)\n",
        "print(f\"Pay: ${pay:.2f}\")\n"
      ],
      "metadata": {
        "colab": {
          "base_uri": "https://localhost:8080/"
        },
        "id": "D0jp2Up_SeRC",
        "outputId": "03a744fc-f08b-4a9d-998b-eac70bfdfcbb"
      },
      "execution_count": 8,
      "outputs": [
        {
          "output_type": "stream",
          "name": "stdout",
          "text": [
            "Enter Hours: 45\n",
            "Enter Rate: 10\n",
            "Pay: $475.00\n"
          ]
        }
      ]
    }
  ]
}